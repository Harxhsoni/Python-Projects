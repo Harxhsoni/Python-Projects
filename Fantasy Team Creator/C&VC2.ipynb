{
 "cells": [
  {
   "cell_type": "code",
   "execution_count": 2,
   "id": "7473d5ac-a5d3-4b7d-9e2e-3f17811685cc",
   "metadata": {},
   "outputs": [
    {
     "name": "stdout",
     "output_type": "stream",
     "text": [
      "Captain:  WILLIAMSON\n",
      "Vice-Captain:  CONWAY\n",
      "\n",
      "Final Data with scores:\n",
      "         PLAYER     TYPE         NCF         NHS  Composite Score\n",
      "0    WILLIAMSON   BATTER  100.000000   63.636364        85.454545\n",
      "1        CONWAY       WK   90.909091   72.727273        83.636364\n",
      "5       SANTNER  BOWL-AR   63.636364   81.818182        70.909091\n",
      "2      W. YOUNG   BATTER   81.818182   45.454545        67.272727\n",
      "6   MAHMUDULLAH       AR   45.454545  100.000000        67.272727\n",
      "4         J.ALI       WK   72.727273   54.545455        65.454545\n",
      "7     BRACEWELL   BAT-AR   27.272727   90.909091        52.727273\n",
      "3        SHANTO   BATTER   54.545455   36.363636        47.272727\n",
      "8   W. O'ROURKE   BOWLER   36.363636   27.272727        32.727273\n",
      "9    MATT HENRY   BOWLER   18.181818    9.090909        14.545455\n",
      "10       RAHMAN   BOWLER    9.090909   18.181818        12.727273\n"
     ]
    },
    {
     "name": "stderr",
     "output_type": "stream",
     "text": [
      "C:\\Users\\Harsh\\AppData\\Local\\Temp\\ipykernel_10828\\4241992671.py:10: FutureWarning: Setting an item of incompatible dtype is deprecated and will raise an error in a future version of pandas. Value '[66.47  58.698 51.258 41.86  49.42 ]' has dtype incompatible with int64, please explicitly cast to a compatible dtype first.\n",
      "  team.loc[team['TYPE'].isin(['BATTER', 'WK']), 'Current Form'] = team['BATTING-FORM']\n",
      "C:\\Users\\Harsh\\AppData\\Local\\Temp\\ipykernel_10828\\4241992671.py:16: FutureWarning: Setting an item of incompatible dtype is deprecated and will raise an error in a future version of pandas. Value '[62.5  67.5  51.42 38.75 54.75]' has dtype incompatible with int64, please explicitly cast to a compatible dtype first.\n",
      "  team.loc[team['TYPE'].isin(['BATTER', 'WK']), 'Historical Stats'] = team['BAT AVG']\n"
     ]
    }
   ],
   "source": [
    "import pandas as pd\n",
    "\n",
    "#Load the CSV file\n",
    "file_path = \"Best11_Team.csv\"\n",
    "#Replacing with file path\n",
    "team = pd.read_csv(file_path)\n",
    "\n",
    "#Current form of each player\n",
    "team['Current Form'] = 0\n",
    "team.loc[team['TYPE'].isin(['BATTER', 'WK']), 'Current Form'] = team['BATTING-FORM']\n",
    "team.loc[team['TYPE'] == 'BOWLER', 'Current Form'] = team['BOWLING-FORM']\n",
    "team.loc[team['TYPE'].isin(['AR', 'BAT-AR', 'BOWL-AR']), 'Current Form'] = team['AR-FORM']\n",
    "\n",
    "#Stats of each player\n",
    "team['Historical Stats'] = 0\n",
    "team.loc[team['TYPE'].isin(['BATTER', 'WK']), 'Historical Stats'] = team['BAT AVG']\n",
    "team.loc[team['TYPE'] == 'BOWLER', 'Historical Stats'] = team['ECONOMY']\n",
    "team.loc[team['TYPE'].isin(['AR', 'BAT-AR', 'BOWL-AR']), 'Historical Stats'] = team['BAT AVG'] + 20 * team['ECONOMY']\n",
    "\n",
    "#Normalization\n",
    "team['NCF'] = team['Current Form'].rank(pct=True) * 100\n",
    "team['NHS'] = team['Historical Stats'].rank(pct=True)*100\n",
    "\n",
    "#Composite Score\n",
    "team['Composite Score'] = (0.6*team['NCF']) + (0.4*team['NHS'])\n",
    "\n",
    "#Sorting\n",
    "team_sorted = team.sort_values(by='Composite Score', ascending=False)\n",
    "\n",
    "#Selection\n",
    "captain = team_sorted.iloc[0]['PLAYER']\n",
    "vice_captain = team_sorted.iloc[1]['PLAYER']\n",
    "\n",
    "#DISPLAY\n",
    "print(\"Captain: \", captain)\n",
    "print(\"Vice-Captain: \", vice_captain)\n",
    "print(\"\\nFinal Data with scores:\")\n",
    "print(team_sorted[['PLAYER', 'TYPE', 'NCF', 'NHS', 'Composite Score']])"
   ]
  },
  {
   "cell_type": "code",
   "execution_count": null,
   "id": "c70ee820-0760-4494-bd10-6fee8392745e",
   "metadata": {},
   "outputs": [],
   "source": []
  }
 ],
 "metadata": {
  "kernelspec": {
   "display_name": "Python 3 (ipykernel)",
   "language": "python",
   "name": "python3"
  },
  "language_info": {
   "codemirror_mode": {
    "name": "ipython",
    "version": 3
   },
   "file_extension": ".py",
   "mimetype": "text/x-python",
   "name": "python",
   "nbconvert_exporter": "python",
   "pygments_lexer": "ipython3",
   "version": "3.13.0"
  }
 },
 "nbformat": 4,
 "nbformat_minor": 5
}
