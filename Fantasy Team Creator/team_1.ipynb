{
 "cells": [
  {
   "cell_type": "code",
   "execution_count": 2,
   "id": "f20aebc7-6000-4852-8899-f31ec3577344",
   "metadata": {},
   "outputs": [
    {
     "name": "stdout",
     "output_type": "stream",
     "text": [
      "Updated data saved to Updated_AUS_Team.csv\n"
     ]
    }
   ],
   "source": [
    "import pandas as pd\n",
    "import numpy as np\n",
    "\n",
    "#Load the CSV file\n",
    "file_path = \"AUS.xlsx\"\n",
    "#Replacing with file path\n",
    "team_data = pd.read_excel(file_path)\n",
    "\n",
    "#calculate recent form of batter\n",
    "team_data['BATTING-SKILLS'] = (team_data['AGAINST PACERS'] * 0.5) + (team_data['AGAINST SPINNERS'] * 0.5)\n",
    "team_data['BATTING-FORM'] = (team_data['RECENT-BAT-AVG'] * 0.5) + (team_data['BAT AVG'] * 0.1) + (team_data['BATTING-SKILLS'] * 0.1) + (team_data['BAT SR'] * 0.1) + (team_data['VENUE PERFORM'] * 0.2)\n",
    "team_data['BOWLING-FORM'] = ((team_data['RECENT-BOWL-AVG'] * 20) * 0.5) + (team_data['ECONOMY'] * 0.1)+ (team_data['BOWL. AVG'] * 0.1) + (team_data['BOWL. SR'] * 0.1) + (team_data['VENUE PERFORM'] * 0.2)\n",
    "team_data['AR-FORM'] = (team_data['BATTING-FORM'] * 0.6) + (team_data['BOWLING-FORM'] * 0.4)\n",
    "\n",
    "#Saving the updated dataset\n",
    "output_file = \"Updated_AUS_Team.csv\"\n",
    "team_data.to_csv(output_file, index=False)\n",
    "print(f\"Updated data saved to {output_file}\")"
   ]
  },
  {
   "cell_type": "code",
   "execution_count": null,
   "id": "d8ed59ea-6ed3-4613-9bcd-c289e0eea36b",
   "metadata": {},
   "outputs": [],
   "source": []
  }
 ],
 "metadata": {
  "kernelspec": {
   "display_name": "Python 3 (ipykernel)",
   "language": "python",
   "name": "python3"
  },
  "language_info": {
   "codemirror_mode": {
    "name": "ipython",
    "version": 3
   },
   "file_extension": ".py",
   "mimetype": "text/x-python",
   "name": "python",
   "nbconvert_exporter": "python",
   "pygments_lexer": "ipython3",
   "version": "3.13.0"
  }
 },
 "nbformat": 4,
 "nbformat_minor": 5
}
