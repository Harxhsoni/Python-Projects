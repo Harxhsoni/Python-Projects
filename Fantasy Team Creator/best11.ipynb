{
 "cells": [
  {
   "cell_type": "code",
   "execution_count": 3,
   "id": "12a36274-5b0f-46fd-a32d-71262551a03f",
   "metadata": {},
   "outputs": [
    {
     "name": "stdout",
     "output_type": "stream",
     "text": [
      "         PLAYER     TYPE  BAT AVG  BAT SR  BOWL. SR  BOWL. AVG  ECONOMY  \\\n",
      "12   WILLIAMSON   BATTER    62.50   73.20       NaN        NaN      NaN   \n",
      "3        CONWAY       WK    67.50   85.98       NaN        NaN      NaN   \n",
      "13     W. YOUNG   BATTER    51.42   87.16       NaN        NaN      NaN   \n",
      "15       SHANTO   BATTER    38.75   99.35       NaN        NaN      NaN   \n",
      "21        J.ALI       WK    54.75   87.95       NaN        NaN      NaN   \n",
      "0       SANTNER  BOWL-AR    36.00   98.63      46.8      33.26     4.26   \n",
      "20  MAHMUDULLAH       AR    35.77   78.23      48.5      47.37     5.86   \n",
      "1     BRACEWELL   BAT-AR    39.33  115.00      42.4      35.11     4.96   \n",
      "7   W. O'ROURKE   BOWLER      NaN     NaN      22.6      23.00     6.10   \n",
      "4    MATT HENRY   BOWLER      NaN     NaN      30.1      22.70     4.52   \n",
      "25       RAHMAN   BOWLER      NaN     NaN      38.9      37.18     5.73   \n",
      "\n",
      "    BATTING-FORM  BOWLING-FORM  AR-FORM  \n",
      "12        66.470           NaN      NaN  \n",
      "3         58.698           NaN      NaN  \n",
      "13        51.258           NaN      NaN  \n",
      "15        41.860           NaN      NaN  \n",
      "21        49.420           NaN      NaN  \n",
      "0         39.863        45.032  41.9306  \n",
      "20        49.300        28.173  40.8492  \n",
      "1         41.683        37.247  39.9086  \n",
      "7            NaN        40.170      NaN  \n",
      "4            NaN        39.732      NaN  \n",
      "25           NaN        36.781      NaN  \n",
      "Updated data saved to Best11_Team.csv\n"
     ]
    }
   ],
   "source": [
    "import pandas as pd\n",
    "\n",
    "#Loading both teams and match data\n",
    "team1 = pd.read_csv(\"Updated_NZ_Team.csv\")\n",
    "team2 = pd.read_csv(\"Updated_BAN_Team.csv\")\n",
    "\n",
    "#Playing XI for both teams\n",
    "team1_playing11 = ['CONWAY', 'T.LATHAM', 'WILLIAMSON', 'R. RAVINDRA', 'W. YOUNG', 'SANTNER', 'PHILLIPS', 'BRACEWELL', 'MATT HENRY', \"W. O'ROURKE\", 'JAMIESON']\n",
    "team2_playing11 = ['M.RAHIM', 'J.ALI', 'SHANTO', 'HRIDOY', 'TANZID', 'M.H.MIRAZ', 'MAHMUDULLAH', 'R.HOSSAIN', 'TASKIN', 'RAHMAN', 'NAHID RANA']\n",
    "\n",
    "#Combine Playing XI\n",
    "playing_11 = team1_playing11 + team2_playing11\n",
    "\n",
    "#Combining Both teams data into one\n",
    "combined_team_data = pd.concat([team1, team2], ignore_index=True)\n",
    "\n",
    "#Filtering the combined data for playing 11\n",
    "team_data = combined_team_data[combined_team_data['PLAYER'].isin(playing_11)] \n",
    "\n",
    "#Selecting the players on the basis of our criteria\n",
    "\n",
    "#Top-Order Batters\n",
    "top_order_batters = team_data[(team_data['TYPE'].isin(['BATTER', 'WK'])) & (team_data['BAT-POS'] == 'TOP-ORDER') & (team_data['BAT SR'] > 69) & (team_data['BAT AVG'] > 24)].sort_values(by=['BATTING-FORM', 'VENUE PERFORM', 'AGAINST PACERS', 'AGAINST SPINNERS'], ascending=[False, False, False, False]).head(4)\n",
    "\n",
    "#Middle-Order Batters\n",
    "middle_order_batters = team_data[(team_data['TYPE'].isin(['BATTER', 'WK'])) & (team_data['BAT-POS'] == 'MIDDLE-ORDER') & (team_data['BAT SR'] > 69) & (team_data['BAT AVG'] > 24)].sort_values(by=['BATTING-FORM', 'VENUE PERFORM','AGAINST SPINNERS', 'AGAINST PACERS'], ascending=[False, False, False, False]).head(2)\n",
    "\n",
    "#All-Rounders\n",
    "all_rounders = team_data[(team_data['TYPE'].isin(['AR', 'BAT-AR', 'BOWL-AR'])) & (team_data['BAT SR'] > 59) & (team_data['BAT AVG'] > 14) & (team_data['ECONOMY'] < 8.5) & (team_data['BOWL. AVG'] < 55) & (team_data['BOWL. SR'] < 61)].sort_values(by=['AR-FORM', 'VENUE PERFORM', 'AGAINST SPINNERS', 'AGAINST PACERS'], ascending=[False, False, False, False]).head(3)\n",
    "\n",
    "#Bowlers\n",
    "bowlers = team_data[(team_data['TYPE'] == 'BOWLER') & (team_data['ECONOMY'] < 7) & (team_data['BOWL. AVG'] < 42) & (team_data['BOWL. SR'] < 51)].sort_values(by=['BOWLING-FORM', 'VENUE PERFORM'], ascending=[False, False]).head(3)\n",
    "\n",
    "#Combining all selected players into best 11\n",
    "best_11 = pd.concat([top_order_batters, middle_order_batters, all_rounders, bowlers])\n",
    "\n",
    "#Removing duplicates\n",
    "best_11 = best_11.drop_duplicates(subset='PLAYER', keep='first')\n",
    "\n",
    "#Displaying the Team\n",
    "print(best_11[['PLAYER', 'TYPE', 'BAT AVG', 'BAT SR', 'BOWL. SR', 'BOWL. AVG', 'ECONOMY', 'BATTING-FORM', 'BOWLING-FORM', 'AR-FORM']])\n",
    "\n",
    "#Saving the updated dataset\n",
    "output_file = \"Best11_Team.csv\"\n",
    "best_11.to_csv(output_file, index=False)\n",
    "print(f\"Updated data saved to {output_file}\")"
   ]
  },
  {
   "cell_type": "code",
   "execution_count": null,
   "id": "d341fc09-1890-4c12-bae9-f8a20d00376d",
   "metadata": {},
   "outputs": [],
   "source": []
  }
 ],
 "metadata": {
  "kernelspec": {
   "display_name": "Python 3 (ipykernel)",
   "language": "python",
   "name": "python3"
  },
  "language_info": {
   "codemirror_mode": {
    "name": "ipython",
    "version": 3
   },
   "file_extension": ".py",
   "mimetype": "text/x-python",
   "name": "python",
   "nbconvert_exporter": "python",
   "pygments_lexer": "ipython3",
   "version": "3.13.0"
  }
 },
 "nbformat": 4,
 "nbformat_minor": 5
}
